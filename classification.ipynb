{
  "nbformat": 4,
  "nbformat_minor": 0,
  "metadata": {
    "colab": {
      "name": "classification.ipynb",
      "provenance": [],
      "authorship_tag": "ABX9TyNLRpOarW8kV9M3TDA+iOxA",
      "include_colab_link": true
    },
    "kernelspec": {
      "name": "python3",
      "display_name": "Python 3"
    },
    "language_info": {
      "name": "python"
    }
  },
  "cells": [
    {
      "cell_type": "markdown",
      "metadata": {
        "id": "view-in-github",
        "colab_type": "text"
      },
      "source": [
        "<a href=\"https://colab.research.google.com/github/assisnat/workshopDataScience/blob/main/classification.ipynb\" target=\"_parent\"><img src=\"https://colab.research.google.com/assets/colab-badge.svg\" alt=\"Open In Colab\"/></a>"
      ]
    },
    {
      "cell_type": "code",
      "metadata": {
        "id": "HQWHJKdv_IJM"
      },
      "source": [
        "import seaborn as sns\n",
        "import pandas as pd\n",
        "from matplotlib import pyplot as plt\n",
        "from sklearn import datasets\n",
        "from sklearn.tree import DecisionTreeClassifier \n",
        "from sklearn import tree\n",
        "from sklearn.model_selection import train_test_split\n",
        "from sklearn.neighbors import KNeighborsClassifier\n",
        "from sklearn.ensemble import RandomForestClassifier"
      ],
      "execution_count": 1,
      "outputs": []
    },
    {
      "cell_type": "code",
      "metadata": {
        "id": "1Qhh7RAN_OEt"
      },
      "source": [
        "# Carregando a base de dados Wine\n",
        "wine = datasets.load_wine()\n",
        "# Definindo o X\n",
        "x = wine.data\n",
        "# Definindo o Y\n",
        "y = wine.target"
      ],
      "execution_count": 10,
      "outputs": []
    },
    {
      "cell_type": "code",
      "metadata": {
        "colab": {
          "base_uri": "https://localhost:8080/"
        },
        "id": "cn_GhOij_SqL",
        "outputId": "c805205c-e474-4af0-d4fc-b8219b533abd"
      },
      "source": [
        "# Criando a primeira árvore de decisão\n",
        "clf = DecisionTreeClassifier(random_state=1234)\n",
        "# Treinando a arvore\n",
        "arvore1 = clf.fit(x, y)\n",
        "# Avaliando a arvore \n",
        "arvore1.score(x,y)"
      ],
      "execution_count": 11,
      "outputs": [
        {
          "output_type": "execute_result",
          "data": {
            "text/plain": [
              "1.0"
            ]
          },
          "metadata": {
            "tags": []
          },
          "execution_count": 11
        }
      ]
    },
    {
      "cell_type": "code",
      "metadata": {
        "colab": {
          "base_uri": "https://localhost:8080/",
          "height": 489
        },
        "id": "bQhdomFF_f8B",
        "outputId": "ae44af20-e8cc-43bb-d045-898692d3172b"
      },
      "source": [
        "importancia = arvore1.feature_importances_\n",
        "for i,v in enumerate(importancia):\n",
        "\tprint('Feature: %0d, Score: %.5f' % (i,v))\n",
        " \n",
        "plt.bar([x for x in range(len(importancia))], importancia)\n",
        "plt.show()"
      ],
      "execution_count": 12,
      "outputs": [
        {
          "output_type": "stream",
          "text": [
            "Feature: 0, Score: 0.01257\n",
            "Feature: 1, Score: 0.02048\n",
            "Feature: 2, Score: 0.00000\n",
            "Feature: 3, Score: 0.00000\n",
            "Feature: 4, Score: 0.03298\n",
            "Feature: 5, Score: 0.00000\n",
            "Feature: 6, Score: 0.18127\n",
            "Feature: 7, Score: 0.00000\n",
            "Feature: 8, Score: 0.00000\n",
            "Feature: 9, Score: 0.00000\n",
            "Feature: 10, Score: 0.05819\n",
            "Feature: 11, Score: 0.31204\n",
            "Feature: 12, Score: 0.38247\n"
          ],
          "name": "stdout"
        },
        {
          "output_type": "display_data",
          "data": {
            "image/png": "[encoded data removed]",
            "text/plain": [
              "<Figure size 432x288 with 1 Axes>"
            ]
          },
          "metadata": {
            "tags": [],
            "needs_background": "light"
          }
        }
      ]
    },
    {
      "cell_type": "code",
      "metadata": {
        "colab": {
          "base_uri": "https://localhost:8080/"
        },
        "id": "pGQ2r2tJ_lwt",
        "outputId": "82c6dc6c-db20-4a4f-c5d9-a43d43fd6a9a"
      },
      "source": [
        "# Dividindo a base de dados em 70% para treino e 30% para teste\n",
        "X_train, X_test, y_train, y_test = train_test_split(x, y, test_size=0.3, random_state=42)\n",
        "\n",
        "#Criando a segunda arvore de decisão\n",
        "clf2 = DecisionTreeClassifier(random_state=1234)\n",
        "# Treinando a árvore com os dados de treino\n",
        "arvore2 = clf2.fit(X_train, y_train)\n",
        "# Avaliando a árvore nos dados de teste\n",
        "arvore2.score(X_test,y_test)"
      ],
      "execution_count": 16,
      "outputs": [
        {
          "output_type": "execute_result",
          "data": {
            "text/plain": [
              "0.9629629629629629"
            ]
          },
          "metadata": {
            "tags": []
          },
          "execution_count": 16
        }
      ]
    },
    {
      "cell_type": "code",
      "metadata": {
        "colab": {
          "base_uri": "https://localhost:8080/",
          "height": 486
        },
        "id": "Nf-8H14vATMH",
        "outputId": "94af1af3-8fe7-4d01-e7ad-a64dd7be90bf"
      },
      "source": [
        "importancia = arvore2.feature_importances_\n",
        "for i,v in enumerate(importancia):\n",
        "\tprint('Feature: %0d, Score: %.5f' % (i,v))\n",
        " \n",
        "plt.bar([x for x in range(len(importancia))], importancia)\n",
        "plt.show()"
      ],
      "execution_count": 17,
      "outputs": [
        {
          "output_type": "stream",
          "text": [
            "Feature: 0, Score: 0.02101\n",
            "Feature: 1, Score: 0.00000\n",
            "Feature: 2, Score: 0.02292\n",
            "Feature: 3, Score: 0.00000\n",
            "Feature: 4, Score: 0.00000\n",
            "Feature: 5, Score: 0.00000\n",
            "Feature: 6, Score: 0.41466\n",
            "Feature: 7, Score: 0.00000\n",
            "Feature: 8, Score: 0.00000\n",
            "Feature: 9, Score: 0.41148\n",
            "Feature: 10, Score: 0.00000\n",
            "Feature: 11, Score: 0.00000\n",
            "Feature: 12, Score: 0.12994\n"
          ],
          "name": "stdout"
        },
        {
          "output_type": "display_data",
          "data": {
            "image/png": "[encoded data removed]",
            "text/plain": [
              "<Figure size 432x288 with 1 Axes>"
            ]
          },
          "metadata": {
            "tags": [],
            "needs_background": "light"
          }
        }
      ]
    },
    {
      "cell_type": "code",
      "metadata": {
        "colab": {
          "base_uri": "https://localhost:8080/"
        },
        "id": "BwBVsMQIBCC_",
        "outputId": "b3d2d717-f412-4c81-c1da-25e9ecd14447"
      },
      "source": [
        "# Criando o algortimo de florestas aleatorias\n",
        "floresta = RandomForestClassifier()\n",
        "# Treinando o algoritmo\n",
        "floresta.fit(X_train, y_train)\n",
        "# Avaliando o algoritmo\n",
        "floresta.score(X_test,y_test)"
      ],
      "execution_count": 18,
      "outputs": [
        {
          "output_type": "execute_result",
          "data": {
            "text/plain": [
              "1.0"
            ]
          },
          "metadata": {
            "tags": []
          },
          "execution_count": 18
        }
      ]
    },
    {
      "cell_type": "code",
      "metadata": {
        "colab": {
          "base_uri": "https://localhost:8080/",
          "height": 486
        },
        "id": "0RgzoiFYBKU1",
        "outputId": "c52665c1-06a0-4b87-e2ca-1d47ad1253b5"
      },
      "source": [
        "importancia = floresta.feature_importances_\n",
        "for i,v in enumerate(importancia):\n",
        "\tprint('Feature: %0d, Score: %.5f' % (i,v))\n",
        " \n",
        "plt.bar([x for x in range(len(importancia))], importancia)\n",
        "plt.show()"
      ],
      "execution_count": 19,
      "outputs": [
        {
          "output_type": "stream",
          "text": [
            "Feature: 0, Score: 0.11050\n",
            "Feature: 1, Score: 0.03005\n",
            "Feature: 2, Score: 0.01448\n",
            "Feature: 3, Score: 0.03815\n",
            "Feature: 4, Score: 0.03883\n",
            "Feature: 5, Score: 0.06064\n",
            "Feature: 6, Score: 0.13758\n",
            "Feature: 7, Score: 0.00796\n",
            "Feature: 8, Score: 0.02212\n",
            "Feature: 9, Score: 0.20909\n",
            "Feature: 10, Score: 0.07200\n",
            "Feature: 11, Score: 0.14833\n",
            "Feature: 12, Score: 0.11029\n"
          ],
          "name": "stdout"
        },
        {
          "output_type": "display_data",
          "data": {
            "image/png": "[encoded data removed]",
            "text/plain": [
              "<Figure size 432x288 with 1 Axes>"
            ]
          },
          "metadata": {
            "tags": [],
            "needs_background": "light"
          }
        }
      ]
    },
    {
      "cell_type": "code",
      "metadata": {
        "colab": {
          "base_uri": "https://localhost:8080/"
        },
        "id": "2l76iwkwBYAR",
        "outputId": "6544fb1e-a50a-4c94-c9b9-3a540faf9eb9"
      },
      "source": [
        "# Criando o KNN com K = 2\n",
        "neigh = KNeighborsClassifier(n_neighbors=2)\n",
        "# Treina o KNN na base de dados de treinamento\n",
        "neigh.fit(X_train, y_train)\n",
        "# Avalia o KNN na base de teste\n",
        "neigh.score(X_test,y_test)"
      ],
      "execution_count": 23,
      "outputs": [
        {
          "output_type": "execute_result",
          "data": {
            "text/plain": [
              "0.7037037037037037"
            ]
          },
          "metadata": {
            "tags": []
          },
          "execution_count": 23
        }
      ]
    },
    {
      "cell_type": "code",
      "metadata": {
        "colab": {
          "base_uri": "https://localhost:8080/"
        },
        "id": "R_aC-rgFBjLl",
        "outputId": "a1417a09-c846-4c9d-a8cb-4a95b2248c5a"
      },
      "source": [
        "# Criando o KNN com K = 60\n",
        "neigh = KNeighborsClassifier(n_neighbors=60)\n",
        "# Treina o KNN na base de dados de treinamento\n",
        "neigh.fit(X_train, y_train)\n",
        "# Avalia o KNN na base de teste\n",
        "neigh.score(X_test,y_test)"
      ],
      "execution_count": 24,
      "outputs": [
        {
          "output_type": "execute_result",
          "data": {
            "text/plain": [
              "0.7407407407407407"
            ]
          },
          "metadata": {
            "tags": []
          },
          "execution_count": 24
        }
      ]
    },
    {
      "cell_type": "code",
      "metadata": {
        "colab": {
          "base_uri": "https://localhost:8080/"
        },
        "id": "dM4wKicWBqei",
        "outputId": "48da270f-a4c8-450f-adfc-5b762539a96f"
      },
      "source": [
        "# Criando o KNN com K = 56\n",
        "neigh = KNeighborsClassifier(n_neighbors=56)\n",
        "# Treina o KNN na base de dados de treinamento\n",
        "neigh.fit(X_train, y_train)\n",
        "# Avalia o KNN na base de teste\n",
        "neigh.score(X_test,y_test)"
      ],
      "execution_count": 28,
      "outputs": [
        {
          "output_type": "execute_result",
          "data": {
            "text/plain": [
              "0.7592592592592593"
            ]
          },
          "metadata": {
            "tags": []
          },
          "execution_count": 28
        }
      ]
    },
    {
      "cell_type": "code",
      "metadata": {
        "colab": {
          "base_uri": "https://localhost:8080/"
        },
        "id": "3Hr2pzJOB0gf",
        "outputId": "1a27835d-2ad8-4ca7-aefe-ed4c6068fc32"
      },
      "source": [
        "# Criando o KNN com K = 20\n",
        "neigh = KNeighborsClassifier(n_neighbors=20)\n",
        "# Treina o KNN na base de dados de treinamento\n",
        "neigh.fit(X_train, y_train)\n",
        "# Avalia o KNN na base de teste\n",
        "neigh.score(X_test,y_test)"
      ],
      "execution_count": 26,
      "outputs": [
        {
          "output_type": "execute_result",
          "data": {
            "text/plain": [
              "0.7777777777777778"
            ]
          },
          "metadata": {
            "tags": []
          },
          "execution_count": 26
        }
      ]
    },
    {
      "cell_type": "code",
      "metadata": {
        "colab": {
          "base_uri": "https://localhost:8080/"
        },
        "id": "yIocuda7CDiU",
        "outputId": "d96937cd-f142-4b8e-ab2a-4f55438f54ff"
      },
      "source": [
        "# Criando o KNN com K = 97\n",
        "neigh = KNeighborsClassifier(n_neighbors=97)\n",
        "# Treina o KNN na base de dados de treinamento\n",
        "neigh.fit(X_train, y_train)\n",
        "# Avalia o KNN na base de teste\n",
        "neigh.score(X_test,y_test)"
      ],
      "execution_count": 27,
      "outputs": [
        {
          "output_type": "execute_result",
          "data": {
            "text/plain": [
              "0.7037037037037037"
            ]
          },
          "metadata": {
            "tags": []
          },
          "execution_count": 27
        }
      ]
    }
  ]
}